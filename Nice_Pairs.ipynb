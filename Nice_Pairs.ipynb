{
 "cells": [
  {
   "cell_type": "markdown",
   "metadata": {},
   "source": [
    "### Q2: Nice Pairs\n",
    "The niceness of a pair $(a,b)$ is the value you will get by substracting their product from the difference of their squares. \n",
    "For example, the niceness of the pair $(7,4)$ is $5$, because $(7^2-4^2)-(784)$ is $5$\n",
    "Find any pair of numbers with niceness 605, where both numbers have 4 digits. If you find a pair $(a,b)$ then write the number $(10000*a)+b$"
   ]
  },
  {
   "cell_type": "markdown",
   "metadata": {},
   "source": [
    "To find a pair of four-digit numbers $(a, b)$ whose niceness is 605, we will use the formula for niceness:\n",
    "\n",
    "$Niceness(a, b) = (a^2 - b^2) - (a * b)$\n",
    "\n",
    "We are given that the niceness should be 605, so we need to solve the equation:\n",
    "\n",
    "$a^2 - b^2 - a * b = 605$\n",
    "\n",
    "This can be rewritten as:\n",
    "\n",
    "$a^2 - a * b - b^2 = 605$\n",
    "\n",
    "We'll look for pairs $(a, b)$ where both $a$ and $b$ are four-digit numbers. Let's start by setting up a computational search within the range of $1000$ to $9999$ for both $a$ and $b$.\n",
    "\n",
    "A pair of four-digit numbers $(a, b)$ with a niceness of 605 is $(1827, 1129) $. Therefore, the number $(10000 * a) + b$ for this pair is $18271129$."
   ]
  },
  {
   "cell_type": "code",
   "execution_count": 1,
   "metadata": {},
   "outputs": [
    {
     "name": "stdout",
     "output_type": "stream",
     "text": [
      "18271129 (1827, 1129)\n"
     ]
    }
   ],
   "source": [
    "# Search for a pair of numbers (a, b) with a niceness of 605\n",
    "# where both a and b are four-digit numbers\n",
    "\n",
    "niceness_target = 605 \n",
    "\n",
    "# Initialize variables to store the found pair\n",
    "found_pair =  None \n",
    "\n",
    "# Iterate over the range of four-digit numbers for both a and b\n",
    "for a in range(1000, 10000) :\n",
    "    for b in range(1000, 10000):\n",
    "        if (a ** 2 - b ** 2 - a * b) == niceness_target:\n",
    "            found_pair = (a, b)\n",
    "            break  # Exit the inner loop if a pair is found\n",
    "    if found_pair:\n",
    "        break  # Exit the outer loop if a pair is found\n",
    "\n",
    "# Compute the final number as (10000*a) + b if a pair is found\n",
    "final_number = (10000 * found_pair[0] + found_pair[1]) if found_pair else None\n",
    "print(final_number, found_pair)\n",
    "\n"
   ]
  }
 ],
 "metadata": {
  "kernelspec": {
   "display_name": "Python 3",
   "language": "python",
   "name": "python3"
  },
  "language_info": {
   "codemirror_mode": {
    "name": "ipython",
    "version": 3
   },
   "file_extension": ".py",
   "mimetype": "text/x-python",
   "name": "python",
   "nbconvert_exporter": "python",
   "pygments_lexer": "ipython3",
   "version": "3.9.12"
  }
 },
 "nbformat": 4,
 "nbformat_minor": 2
}
