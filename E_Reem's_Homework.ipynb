{
 "cells": [
  {
   "cell_type": "markdown",
   "metadata": {},
   "source": [
    "### (Q5) E: Reem's_Homework\n",
    "In math homework, Reem was given a value of $x$ and was asked to find y using the following formula\n",
    "\n",
    "$y = x + exp(x/100)$ <br>\n",
    "The function $exp(x)$ is exponential in the natural log base, that is, e to the power of $z$ (also written as $e^z$).<br>\n",
    "Reem wrote down value of $y$, which is equal to $399.55754558030543$, but forgot to note the value of $x$. Can you help her to recover the value of $x$?<br>\n",
    "Your answer should be a real number. The answer is considered correct if when substituted into the formula above, the result is very close to $y$. More precisely, the answer is consedered if and only if the following holds.<br>\n",
    "$|y - (x+exp(x/100))| < 0.001$\n"
   ]
  },
  {
   "cell_type": "code",
   "execution_count": 1,
   "metadata": {},
   "outputs": [
    {
     "data": {
      "text/plain": [
       "362.15999999980136"
      ]
     },
     "execution_count": 1,
     "metadata": {},
     "output_type": "execute_result"
    }
   ],
   "source": [
    "import numpy as np\n",
    "\n",
    "# Define the target value of y\n",
    "y_target = 399.55754558030543\n",
    "\n",
    "# Define the function to find the difference between the target y and the calculated y\n",
    "def y_difference(x):\n",
    "    return x + np.exp(x / 100) - y_target\n",
    "\n",
    "# We will use a simple iterative approach to find the value of x\n",
    "\n",
    "# Set an initial guess for x\n",
    "x_guess = 100\n",
    "\n",
    "# Set a tolerance for the difference\n",
    "tolerance = 0.001\n",
    "\n",
    "# Initialize the difference\n",
    "difference = y_difference(x_guess)\n",
    "\n",
    "# Iteratively update the guess\n",
    "while abs(difference) > tolerance:\n",
    "    x_guess += 0.01  # Increment x_guess\n",
    "    difference = y_difference(x_guess)\n",
    "\n",
    "x_guess\n"
   ]
  }
 ],
 "metadata": {
  "kernelspec": {
   "display_name": "Python 3",
   "language": "python",
   "name": "python3"
  },
  "language_info": {
   "codemirror_mode": {
    "name": "ipython",
    "version": 3
   },
   "file_extension": ".py",
   "mimetype": "text/x-python",
   "name": "python",
   "nbconvert_exporter": "python",
   "pygments_lexer": "ipython3",
   "version": "3.9.12"
  }
 },
 "nbformat": 4,
 "nbformat_minor": 2
}
