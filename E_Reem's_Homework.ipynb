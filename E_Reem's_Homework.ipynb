{
 "cells": [
  {
   "cell_type": "markdown",
   "metadata": {},
   "source": [
    "### (Q5) E: Reem's_Homework\n",
    "In math homework, Reem was given a value of $x$ and was asked to find y using the following formula\n",
    "\n",
    "$y = x + exp(x/100)$ <br>\n",
    "The function $exp(x)$ is exponential in the natural log base, that is, e to the power of $z$ (also written as $e^z$).<br>\n",
    "Reem wrote down value of $y$, which is equal to $399.55754558030543$, but forgot to note the value of $x$. Can you help her to recover the value of $x$?<br>\n",
    "Your answer should be a real number. The answer is considered correct if when substituted into the formula above, the result is very close to $y$. More precisely, the answer is consedered if and only if the following holds.<br>\n",
    "$|y - (x+exp(x/100))| < 0.001$\n"
   ]
  },
  {
   "cell_type": "code",
   "execution_count": 6,
   "metadata": {},
   "outputs": [
    {
     "name": "stdout",
     "output_type": "stream",
     "text": [
      "362.1599999983479\n"
     ]
    }
   ],
   "source": [
    "import numpy as np\n",
    "\n",
    "# Define the target value of y\n",
    "y = 399.55754558030543\n",
    "x = 0\n",
    "\n",
    "while x <= 1000:\n",
    "    if abs(y - (x + np.exp(x / 100))) < 0.001:\n",
    "        x_value = x\n",
    "        break\n",
    "    x += 0.001\n",
    "\n",
    "\n",
    "print(x_value)\n"
   ]
  }
 ],
 "metadata": {
  "kernelspec": {
   "display_name": "Python 3",
   "language": "python",
   "name": "python3"
  },
  "language_info": {
   "codemirror_mode": {
    "name": "ipython",
    "version": 3
   },
   "file_extension": ".py",
   "mimetype": "text/x-python",
   "name": "python",
   "nbconvert_exporter": "python",
   "pygments_lexer": "ipython3",
   "version": "3.9.12"
  }
 },
 "nbformat": 4,
 "nbformat_minor": 2
}
