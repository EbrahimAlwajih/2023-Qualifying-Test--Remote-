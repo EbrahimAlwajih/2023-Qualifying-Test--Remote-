{
 "cells": [
  {
   "cell_type": "markdown",
   "metadata": {},
   "source": [
    "### Q2: If Statement\n",
    "What is the value of 'z' after the following code is executed?\n",
    "```\n",
    "x = 26\n",
    "y = 25\n",
    "if x % 2 == 0:\n",
    "    if x > y:\n",
    "        z = 0\n",
    "    else:\n",
    "        z = 1\n",
    "else:\n",
    "    if x > y:\n",
    "        z =2\n",
    "    else:\n",
    "        z = 3\n",
    "```"
   ]
  },
  {
   "cell_type": "markdown",
   "metadata": {},
   "source": [
    "\n",
    "## Explanation\n",
    "\n",
    "1. **Initialization**:\n",
    "   - $x$ is set to $26$.\n",
    "   - $y$ is set to $25$.\n",
    "\n",
    "2. **First Condition** ($x % 2 == 0$):\n",
    "   - Checks if $x$ is even. Since $26$ is even, this condition is true.\n",
    "\n",
    "3. **Nested Condition** ($x > y$):\n",
    "   - Within the first $if$ block, checks if $x$ is greater than $y$. As 26 is greater than $25$, this condition is also true.\n",
    "\n",
    "4. **Result**:\n",
    "   - As both conditions are true, $z$ is set to $0$.\n",
    "\n",
    "Therefore, the final value of $z$ after executing the code is $0$.\n",
    "\n",
    "\n",
    "This format provides a clear breakdown of the code and its underlying logic, making it easier for others to understand the purpose and functionality of the code snippet."
   ]
  },
  {
   "cell_type": "code",
   "execution_count": 1,
   "metadata": {},
   "outputs": [
    {
     "data": {
      "text/plain": [
       "0"
      ]
     },
     "execution_count": 1,
     "metadata": {},
     "output_type": "execute_result"
    }
   ],
   "source": [
    "x = 26\n",
    "y = 25\n",
    "\n",
    "if x % 2 == 0:\n",
    "    if x > y:\n",
    "        z = 0\n",
    "    else:\n",
    "        z = 1\n",
    "else:\n",
    "    if x > y:\n",
    "        z =2\n",
    "    else:\n",
    "        z = 3\n",
    "z\n"
   ]
  }
 ],
 "metadata": {
  "kernelspec": {
   "display_name": "Python 3",
   "language": "python",
   "name": "python3"
  },
  "language_info": {
   "codemirror_mode": {
    "name": "ipython",
    "version": 3
   },
   "file_extension": ".py",
   "mimetype": "text/x-python",
   "name": "python",
   "nbconvert_exporter": "python",
   "pygments_lexer": "ipython3",
   "version": "3.9.12"
  }
 },
 "nbformat": 4,
 "nbformat_minor": 2
}
