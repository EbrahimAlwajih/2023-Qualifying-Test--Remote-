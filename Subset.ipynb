{
 "cells": [
  {
   "cell_type": "markdown",
   "metadata": {},
   "source": [
    "### E: \n",
    "You are given the following set of numbers\n",
    "1697976, 1970865, 1481237, 1583430, 1270113, 1188465, 1668778, 1857442, 1658671, 1349846, 1636211, 1887763\n",
    "Your goal is to find a subset that has a sum as close as possible C, but not greater than C, where:\n",
    "C = 46342470\n",
    "your answer should be the sum of the subset you found\n",
    "scoring: \n",
    "Your score will be based on how close you are to the optimum value. Let M be the maximum points possible for this problem, S your answer, and T the optimum sum. Your score on this problem will be as follows,\n",
    "0 if S > C or If is not possible to get S as a sum of a subset of the given numbers.\n",
    "otherwise, your score will be computed by the following formulla: M*(1-(1-S/T)^0.1)\n"
   ]
  },
  {
   "cell_type": "code",
   "execution_count": 2,
   "metadata": {},
   "outputs": [
    {
     "data": {
      "text/plain": [
       "(6340789, (1188465, 1857442, 1658671, 1636211))"
      ]
     },
     "execution_count": 2,
     "metadata": {},
     "output_type": "execute_result"
    }
   ],
   "source": [
    "from itertools import combinations\n",
    "\n",
    "# Given set of numbers\n",
    "numbers = [1697976, 1970865, 1481237, 1583430, 1270113, 1188465, 1668778, 1857442, 1658671, 1349846, 1636211, 1887763]\n",
    "\n",
    "# Target sum C\n",
    "C = 6342470\n",
    "\n",
    "# Initialize variables to store the best sum and its corresponding subset\n",
    "best_sum = 0\n",
    "best_subset = []\n",
    "\n",
    "# Check all possible combinations of the numbers\n",
    "for r in range(1, len(numbers) + 1):\n",
    "    for subset in combinations(numbers, r):\n",
    "        current_sum = sum(subset)\n",
    "        if best_sum < current_sum <= C:\n",
    "            best_sum = current_sum\n",
    "            best_subset = subset\n",
    "\n",
    "best_sum, best_subset\n"
   ]
  },
  {
   "cell_type": "code",
   "execution_count": null,
   "metadata": {},
   "outputs": [],
   "source": [
    "def find_closest_subset(numbers, target, current_index=0, current_sum=0, best_sum=0):\n",
    "    # Base case: when we've gone through all the numbers\n",
    "    if current_index == len(numbers):\n",
    "        if current_sum <= target:\n",
    "            return max(best_sum, current_sum)\n",
    "        else:\n",
    "            return best_sum\n",
    "\n",
    "    # Include the current number in the subset\n",
    "    with_current = find_closest_subset(numbers, target, current_index + 1, current_sum + numbers[current_index], best_sum)\n",
    "\n",
    "    # Exclude the current number from the subset\n",
    "    without_current = find_closest_subset(numbers, target, current_index + 1, current_sum, best_sum)\n",
    "\n",
    "    # Return the better of the two options\n",
    "    return max(with_current, without_current)\n",
    "\n",
    "# Given set of numbers\n",
    "numbers = [1697976, 1970865, 1481237, 1583430, 1270113, 1188465, 1668778, 1857442, 1658671, 1349846, 1636211, 1887763]\n",
    "\n",
    "# Target sum C\n",
    "C = 46342470\n",
    "\n",
    "# Find the closest sum\n",
    "closest_sum = find_closest_subset(numbers, C)\n",
    "closest_sum\n"
   ]
  }
 ],
 "metadata": {
  "kernelspec": {
   "display_name": "Python 3",
   "language": "python",
   "name": "python3"
  },
  "language_info": {
   "codemirror_mode": {
    "name": "ipython",
    "version": 3
   },
   "file_extension": ".py",
   "mimetype": "text/x-python",
   "name": "python",
   "nbconvert_exporter": "python",
   "pygments_lexer": "ipython3",
   "version": "3.10.8"
  }
 },
 "nbformat": 4,
 "nbformat_minor": 2
}
