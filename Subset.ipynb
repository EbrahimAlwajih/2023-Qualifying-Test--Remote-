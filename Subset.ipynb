{
 "cells": [
  {
   "cell_type": "markdown",
   "metadata": {},
   "source": [
    "### G: Subset\n",
    "A 6-gigit number ABCDEF is called a good number if\n",
    "A*C + D*F = (A + B ) * E - F\n",
    "note that A cannot be 0\n",
    "Given two number, L = 137774 and R = 545039, what is the number of good numbers between L and R (include L and R when checking)"
   ]
  },
  {
   "cell_type": "markdown",
   "metadata": {},
   "source": [
    "To find the number of \"good numbers\" in the range from \\( L = 137774 \\) to \\( R = 545039 \\) based on the given condition \\( A \\times C + D \\times F = (A + B) \\times E - F \\), we can use a brute force approach. This involves iterating through each 6-digit number in the specified range and checking whether it satisfies the condition.\n",
    "\n",
    "The condition can be broken down as follows for a number ABCDEF:\n",
    "- \\( A \\) cannot be 0.\n",
    "- \\( A \\times C + D \\times F = (A + B) \\times E - F \\).\n",
    "\n",
    "Let's implement this in code to count the number of \"good numbers\" in the given range.\n",
    "\n",
    "There are 6,314 \"good numbers\" in the range from 137,774 to 545,039 that satisfy the condition \\( A \\times C + D \\times F = (A + B) \\times E - F \\), where ABCDEF is the 6-digit number and \\( A \\) is not zero."
   ]
  },
  {
   "cell_type": "code",
   "execution_count": 1,
   "metadata": {},
   "outputs": [
    {
     "data": {
      "text/plain": [
       "6314"
      ]
     },
     "execution_count": 1,
     "metadata": {},
     "output_type": "execute_result"
    }
   ],
   "source": [
    "# Define the range\n",
    "L = 137774\n",
    "R = 545039\n",
    "\n",
    "# Function to check if a number is a good number\n",
    "def is_good_number(number):\n",
    "    # Convert number to string for easy access to individual digits\n",
    "    num_str = str(number)\n",
    "    \n",
    "    # Extract digits\n",
    "    A, B, C, D, E, F = [int(digit) for digit in num_str]\n",
    "\n",
    "    # Check the given condition\n",
    "    return A * C + D * F == (A + B) * E - F\n",
    "\n",
    "# Count the number of good numbers\n",
    "count_good_numbers = 0\n",
    "for number in range(L, R + 1):\n",
    "    if is_good_number(number):\n",
    "        count_good_numbers += 1\n",
    "\n",
    "count_good_numbers\n"
   ]
  }
 ],
 "metadata": {
  "kernelspec": {
   "display_name": "Python 3",
   "language": "python",
   "name": "python3"
  },
  "language_info": {
   "codemirror_mode": {
    "name": "ipython",
    "version": 3
   },
   "file_extension": ".py",
   "mimetype": "text/x-python",
   "name": "python",
   "nbconvert_exporter": "python",
   "pygments_lexer": "ipython3",
   "version": "3.9.12"
  }
 },
 "nbformat": 4,
 "nbformat_minor": 2
}
