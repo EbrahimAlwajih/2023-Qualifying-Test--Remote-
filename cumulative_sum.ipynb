{
 "cells": [
  {
   "cell_type": "markdown",
   "metadata": {},
   "source": [
    "To calculate the cumulative sum of all integers in the range starting from A (1263) and ending at B (8846), we can use the formula for the sum of an arithmetic series. The formula for the sum of the first $ n $ integers is given by:\n",
    "\n",
    "$\n",
    "{Sum} = \\frac{n}{2} \\times (a_1 + a_n)\n",
    "$\n",
    "\n",
    "where $ a_1 $ is the first term and $ a_n $ is the last term of the series.\n",
    "\n",
    "However, in your case, we need to adjust this formula since your series doesn't start at 1. The range is from 1263 to 8846. We can calculate the sum from 1 to 8846 and then subtract the sum from 1 to 1262.\n",
    "\n",
    "First, calculate the sum from 1 to 8846:\n",
    "\n",
    "$\n",
    "{Sum}_{1-8846} = \\frac{8846}{2} \\times (1 + 8846)\n",
    "$\n",
    "\n",
    "Then, calculate the sum from 1 to 1262:\n",
    "\n",
    "$\n",
    "{Sum}_{1-1262} = \\frac{1262}{2} \\times (1 + 1262)\n",
    "$\n",
    "\n",
    "Finally, subtract the second sum from the first sum to get the total sum from 1263 to 8846:\n",
    "\n",
    "$\n",
    "{Cumulative Sum}_{1263-8846} = \\text{Sum}_{1-8846} - \\text{Sum}_{1-1262}\n",
    "$\n",
    "\n",
    "Now, let's calculate these values.\n",
    "\n",
    "The cumulative sum of all integers in the range starting from A (1263) and ending at B (8846) is 38,333,328."
   ]
  },
  {
   "cell_type": "code",
   "execution_count": 11,
   "metadata": {},
   "outputs": [
    {
     "data": {
      "text/plain": [
       "5001000199515501"
      ]
     },
     "execution_count": 11,
     "metadata": {},
     "output_type": "execute_result"
    }
   ],
   "source": [
    "# Defining the values\n",
    "A = 1000\n",
    "B = 100010001\n",
    "\n",
    "# Calculating the sum from 1 to B\n",
    "sum_1_to_B = (B * (1 + B)) // 2\n",
    "\n",
    "# Calculating the sum from 1 to A-1 (since we need the sum starting from A)\n",
    "sum_1_to_A_minus_1 = ((A - 1) * (1 + (A - 1))) // 2\n",
    "\n",
    "# Calculating the cumulative sum from A to B\n",
    "cumulative_sum_A_to_B = sum_1_to_B - sum_1_to_A_minus_1\n",
    "cumulative_sum_A_to_B\n",
    "\n"
   ]
  },
  {
   "cell_type": "code",
   "execution_count": 10,
   "metadata": {},
   "outputs": [
    {
     "data": {
      "text/plain": [
       "5001000199515501"
      ]
     },
     "execution_count": 10,
     "metadata": {},
     "output_type": "execute_result"
    }
   ],
   "source": [
    "# Defining the values\n",
    "A = 1000\n",
    "B = 100010001\n",
    "# Initialize the sum\n",
    "cumulative_sum = 0\n",
    "\n",
    "# Loop from A to B, inclusive\n",
    "for number in range(A, B + 1):\n",
    "    cumulative_sum += number\n",
    "\n",
    "cumulative_sum\n"
   ]
  }
 ],
 "metadata": {
  "kernelspec": {
   "display_name": "base",
   "language": "python",
   "name": "python3"
  },
  "language_info": {
   "codemirror_mode": {
    "name": "ipython",
    "version": 3
   },
   "file_extension": ".py",
   "mimetype": "text/x-python",
   "name": "python",
   "nbconvert_exporter": "python",
   "pygments_lexer": "ipython3",
   "version": "3.9.12"
  }
 },
 "nbformat": 4,
 "nbformat_minor": 2
}
