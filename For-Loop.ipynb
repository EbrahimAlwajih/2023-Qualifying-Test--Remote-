{
 "cells": [
  {
   "cell_type": "markdown",
   "metadata": {},
   "source": [
    "### Q2: For Loop\n",
    "What is the value of 'r' after the following code is executed?\n",
    "```\n",
    "r = 0\n",
    "for i in range (100):\n",
    "    r = (179 * r + 421) % 509\n",
    "\n",
    "```"
   ]
  },
  {
   "cell_type": "markdown",
   "metadata": {},
   "source": [
    "Let's break down and explain the calculation of $r$ for the first $5$ iterations:\n",
    "\n",
    "1. **First Iteration**:\n",
    "   - Initial value: $ r_0 = 0 $\n",
    "   - Calculation: $ r_1 = (179 \\times 0 + 421) \\mod 509 $\n",
    "   - Result: $ r_1 = 421 $\n",
    "\n",
    "2. **Second Iteration**:\n",
    "   - Previous value: $ r_1 = 421 $\n",
    "   - Calculation: $ r_2 = (179 \\times 421 + 421) \\mod 509 $\n",
    "   - Result: $ r_2 = 448 $\n",
    "\n",
    "3. **Third Iteration**:\n",
    "   - Previous value: $ r_2 = 448 $\n",
    "   - Calculation: $ r_3 = (179 \\times 448 + 421) \\mod 509 $\n",
    "   - Result: $ r_3 = 191 $\n",
    "\n",
    "4. **Fourth Iteration**:\n",
    "   - Previous value: $ r_3 = 191 $\n",
    "   - Calculation: $ r_4 = (179 \\times 191 + 421) \\mod 509 $\n",
    "   - Result: $ r_4 = 507 $\n",
    "\n",
    "5. **Fifth Iteration**:\n",
    "   - Previous value: $ r_4 = 507 $\n",
    "   - Calculation: $ r_5 = (179 \\times 507 + 421) \\mod 509 $\n",
    "   - Result: $ r_5 = 63 $\n",
    "\n",
    "In each iteration, the new value of $r$ is calculated by multiplying the previous value of $r$ by $179$, adding $421$ to the result, and then taking the modulus with $509$. This process continues for each iteration, with the new value of $r$ being used in the next iteration."
   ]
  },
  {
   "cell_type": "code",
   "execution_count": 2,
   "metadata": {},
   "outputs": [
    {
     "data": {
      "text/plain": [
       "215"
      ]
     },
     "execution_count": 2,
     "metadata": {},
     "output_type": "execute_result"
    }
   ],
   "source": [
    "r = 0\n",
    "for i in range (100):\n",
    "    r = (179 * r + 421) % 509\n",
    "r"
   ]
  }
 ],
 "metadata": {
  "kernelspec": {
   "display_name": "Python 3",
   "language": "python",
   "name": "python3"
  },
  "language_info": {
   "codemirror_mode": {
    "name": "ipython",
    "version": 3
   },
   "file_extension": ".py",
   "mimetype": "text/x-python",
   "name": "python",
   "nbconvert_exporter": "python",
   "pygments_lexer": "ipython3",
   "version": "3.10.8"
  }
 },
 "nbformat": 4,
 "nbformat_minor": 2
}
