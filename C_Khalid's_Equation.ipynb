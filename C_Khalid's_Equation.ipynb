{
 "cells": [
  {
   "cell_type": "markdown",
   "metadata": {},
   "source": [
    "### (3) C: Khalid's Equation\n",
    "\n",
    "Khalid is looking for a number $X$ such that when multiplied by $A = 3638$, thier product gives reminder $1$ modulor $P = 36523$. That is:\n",
    "\n",
    "$ X * 3638 ≡ 1 $ (mod 36523) \n",
    "\n",
    "Help Khalid by answering what is the smallest positive integer $X$ for which this code."
   ]
  },
  {
   "cell_type": "markdown",
   "metadata": {},
   "source": [
    " we need to find a value for X such that the product of X and 3638, when divided by 36523, leaves a remainder of 1. This can be done through a simple brute-force approach by iterating through potential values of X until the condition is met."
   ]
  },
  {
   "cell_type": "code",
   "execution_count": 1,
   "metadata": {},
   "outputs": [
    {
     "name": "stdout",
     "output_type": "stream",
     "text": [
      "21454\n"
     ]
    }
   ],
   "source": [
    "# Using For loop\n",
    "\n",
    "# Constants\n",
    "A = 3638\n",
    "P = 36523\n",
    "\n",
    "for X in range(1, P):\n",
    "    if (X * A) % P == 1:\n",
    "        print(X)\n",
    "        break"
   ]
  },
  {
   "cell_type": "markdown",
   "metadata": {},
   "source": [
    "\n",
    "This code will iterate through values of $ X $ starting from 1, and for each $ X $, it checks if $ (A \\times X) \\mod P = 1 $. The first $ X $ that satisfies this condition is the answer. \n",
    "\n",
    "This approach, while straightforward, can be computationally intensive for large values of $ P $ as it potentially requires testing every number from 1 to $ P-1 $."
   ]
  }
 ],
 "metadata": {
  "kernelspec": {
   "display_name": "Python 3",
   "language": "python",
   "name": "python3"
  },
  "language_info": {
   "codemirror_mode": {
    "name": "ipython",
    "version": 3
   },
   "file_extension": ".py",
   "mimetype": "text/x-python",
   "name": "python",
   "nbconvert_exporter": "python",
   "pygments_lexer": "ipython3",
   "version": "3.10.8"
  }
 },
 "nbformat": 4,
 "nbformat_minor": 2
}
