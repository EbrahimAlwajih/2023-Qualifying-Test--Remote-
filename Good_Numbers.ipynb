{
 "cells": [
  {
   "cell_type": "markdown",
   "metadata": {},
   "source": [
    "### E: Good Numbers\n",
    "\n",
    "A 6-digit number ABCDEF is called a good number if <br>\n",
    "$A*C + D*F = (A+B) * E - F$\n",
    "Note that $A$ cannot be $0$. <br>\n",
    "Given two numbers, $L = 137774$ and $R = 545039$. What is the number og good numbers between $L$ and $R$ (include $L4 and $R$ when checking)."
   ]
  },
  {
   "cell_type": "markdown",
   "metadata": {},
   "source": [
    "### The solution.\n",
    "To find the number of \"good numbers\" between $L = 137774 $ and $R = 545039 $ that satisfy the condition $AC + DF = (A+B)E - F $, where each letter represents a digit in the 6-digit number $ABCDEF $, we can write a Python script that iterates through all numbers in this range and checks if they meet the criteria.\n",
    "\n",
    "Let's break down the condition for a \"good number\":\n",
    "- $A $, $B $, $C $, $D $, $E $, and $F $ are digits of the 6-digit number $ABCDEF $.\n",
    "- $A $ cannot be 0 because $ABCDEF $ is a 6-digit number.\n",
    "- The condition $AC + DF = (A+B)E - F $ must be satisfied.\n",
    "\n",
    "I will write and execute a Python script to find the count of such numbers between $L $ and $R $.\n",
    "\n",
    "There are 6,314 \"good numbers\" between 137,774 and 545,039 (inclusive) that satisfy the condition $AC + DF = (A+B)E - F $, where each letter represents a digit in the 6-digit number $ABCDEF $."
   ]
  },
  {
   "cell_type": "code",
   "execution_count": 1,
   "metadata": {},
   "outputs": [
    {
     "data": {
      "text/plain": [
       "6314"
      ]
     },
     "execution_count": 1,
     "metadata": {},
     "output_type": "execute_result"
    }
   ],
   "source": [
    "def is_good_number(number):\n",
    "    # Extracting each digit from the number\n",
    "    A, B, C, D, E, F = map(int, str(number))\n",
    "\n",
    "    # Checking the condition\n",
    "    return A * C + D * F == (A + B) * E - F\n",
    "\n",
    "def count_good_numbers(L, R):\n",
    "    count = 0\n",
    "    for number in range(L, R + 1):\n",
    "        if is_good_number(number):\n",
    "            count += 1\n",
    "    return count\n",
    "\n",
    "# Given numbers\n",
    "L = 137774\n",
    "R = 545039\n",
    "\n",
    "# Counting good numbers\n",
    "count_good_numbers(L, R)\n"
   ]
  }
 ],
 "metadata": {
  "kernelspec": {
   "display_name": "Python 3",
   "language": "python",
   "name": "python3"
  },
  "language_info": {
   "codemirror_mode": {
    "name": "ipython",
    "version": 3
   },
   "file_extension": ".py",
   "mimetype": "text/x-python",
   "name": "python",
   "nbconvert_exporter": "python",
   "pygments_lexer": "ipython3",
   "version": "3.10.8"
  }
 },
 "nbformat": 4,
 "nbformat_minor": 2
}
