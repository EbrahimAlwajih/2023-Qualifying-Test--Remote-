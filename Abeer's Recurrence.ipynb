{
 "cells": [
  {
   "cell_type": "markdown",
   "metadata": {},
   "source": [
    "### Q2: Abeer's Recurrence\n",
    "\n",
    "While learning recurrences, Abeer decided to write down the following recurrence.\n",
    "```python\n",
    "A[1] = 1\n",
    "A[2] = 2\n",
    "A[3] = 3\n",
    "A[4] = A[1] + A[2] * A[3]\n",
    "```\n",
    "And in general,\n",
    "```python\n",
    "A[i] = A [i-3] + A[i-2] * A[i-1]\n",
    "```\n",
    "Output the value of A[141] mode $113$. That is, the remainder when A[141] is divided by $113$."
   ]
  },
  {
   "cell_type": "code",
   "execution_count": 9,
   "metadata": {},
   "outputs": [
    {
     "data": {
      "text/plain": [
       "92"
      ]
     },
     "execution_count": 9,
     "metadata": {},
     "output_type": "execute_result"
    }
   ],
   "source": [
    "# Optimized approach using dynamic programming and modulo operation\n",
    "def compute_A_optimized(n, mod):\n",
    "    A = [0] * (n + 1)\n",
    "    A[1], A[2], A[3] = 1, 2, 3\n",
    "\n",
    "    for i in range(4, n + 1):\n",
    "        A[i] = (A[i - 3] + A[i - 2] * A[i - 1]) % mod\n",
    "\n",
    "    return A[n]\n",
    "\n",
    "# Compute A[141] mod 113 using the optimized approach\n",
    "A_141_mod_113_optimized = compute_A_optimized(141, 113)\n",
    "A_141_mod_113_optimized\n"
   ]
  },
  {
   "cell_type": "markdown",
   "metadata": {},
   "source": [
    "The code compute the value of $ A[141] $ modulo $ 113 $ based on the given recurrence relation:\n",
    "\n",
    "```python\n",
    "A[i] = A[i-3] + A[i-2] * A[i-1]\n",
    "```\n",
    "\n",
    "### Dynamic Programming Approach\n",
    "1. **Initialization**: We first create an array $A$ of size $n + 1$ (where $n$ is 141 in this case) to store the computed values of the sequence. \n",
    "This is because we want to store values from $A[1]$ to $A[n]$. \n",
    "\n",
    "We initialize the first three elements of the array as per the given initial conditions:\n",
    "\n",
    "   ```python\n",
    "   A[1], A[2], A[3] = 1, 2, 3\n",
    "   ```\n",
    "\n",
    "2. **Iterative Computation**: We then iterate from $i = 4$ to $i = 141$, because the first three values are already known. \n",
    "\n",
    "For each $i$, we compute $A[i]$ using the recurrence formula. The formula states that $A[i]$ is the sum of $A[i-3]$ and the product of $A[i-2]$ and $A[i-1]$.\n",
    "\n",
    "   ```python\n",
    "   for i in range(4, n + 1):\n",
    "       A[i] = (A[i - 3] + A[i - 2] * A[i - 1]) % mod\n",
    "   ```\n",
    "\n",
    "3. **Modulo Operation**: To manage the large numbers and to directly get the modulo, we perform the modulo operation ($% mod$) in each step of the computation. \n",
    "\n",
    "This keeps the values in the array within the range of $0$ to $112$ (since $mod = 113$), which significantly reduces computational overhead and avoids integer overflow issues.\n",
    "\n",
    "4. **Return the Result**: Finally, the function returns $A[n]$, which is the value of $A[141]$ modulo $113$.\n",
    "\n",
    "### Function Call\n",
    "- The function compute_A_optimized(141, 113) is called with $n = 141$ and $mod = 113$. It returns the result, which is $92$."
   ]
  },
  {
   "cell_type": "code",
   "execution_count": 8,
   "metadata": {},
   "outputs": [
    {
     "data": {
      "text/plain": [
       "92"
      ]
     },
     "execution_count": 8,
     "metadata": {},
     "output_type": "execute_result"
    }
   ],
   "source": [
    "# Calculating A[141] modulo 113 without using list, tuple, or dictionary\n",
    "\n",
    "def calculate_A_modulo_simple(n, mod):\n",
    "    # Initial values as per the given recurrence relation\n",
    "    a1, a2, a3 = 1, 2, 3\n",
    "\n",
    "    for i in range(4, n + 1):\n",
    "        # Calculating the new value and updating the previous values\n",
    "        new_value = (a1 + a2 * a3) % mod\n",
    "        a1, a2, a3 = a2, a3, new_value\n",
    "\n",
    "    return new_value\n",
    "\n",
    "# Calculating A[141] modulo 113\n",
    "A_141_mod_113_simple = calculate_A_modulo_simple(141, 113)\n",
    "A_141_mod_113_simple\n"
   ]
  }
 ],
 "metadata": {
  "kernelspec": {
   "display_name": "Python 3",
   "language": "python",
   "name": "python3"
  },
  "language_info": {
   "codemirror_mode": {
    "name": "ipython",
    "version": 3
   },
   "file_extension": ".py",
   "mimetype": "text/x-python",
   "name": "python",
   "nbconvert_exporter": "python",
   "pygments_lexer": "ipython3",
   "version": "3.10.8"
  }
 },
 "nbformat": 4,
 "nbformat_minor": 2
}
