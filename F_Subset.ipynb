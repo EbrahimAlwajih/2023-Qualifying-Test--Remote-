{
 "cells": [
  {
   "cell_type": "markdown",
   "metadata": {},
   "source": [
    "### (Q6) E: Subset\n",
    "You are given the following set of numbers. <br>\n",
    "${1697976, 1970865, 1481237, 1583430, 1270113, 1188465, 1668778, 1857442, 1658671, 1349846, 1636211, 1887763, 1888963, 1777763, 1997763}$\n",
    "Your goal is to find a subset that has a sum as close as possible $C$, but not greater than $C$, where:<br>\n",
    "$C = 46342470$<br>\n",
    "your answer should be the sum of the subset you found.\n",
    "scoring: \n",
    "Your score will be based on how close you are to the optimum value. Let M be the maximum points possible for this problem, $S$ your answer, and $T$ the optimum sum. Your score on this problem will be as follows,<br>\n",
    "$0$ if $S > C$ or If is not possible to get $S$ as a sum of a subset of the given numbers.<br>\n",
    "$otherwise$ , your score will be computed by the following formulla: $M \\times (1-(1-S/T)^{0.1})$\n"
   ]
  },
  {
   "cell_type": "code",
   "execution_count": 4,
   "metadata": {},
   "outputs": [
    {
     "data": {
      "text/plain": [
       "(6340789, (1188465, 1857442, 1658671, 1636211))"
      ]
     },
     "execution_count": 4,
     "metadata": {},
     "output_type": "execute_result"
    }
   ],
   "source": [
    "from itertools import combinations\n",
    "\n",
    "# Given set of numbers\n",
    "numbers = [1697976, 1970865, 1481237, 1583430, 1270113, 1188465, 1668778, 1857442, 1658671, 1349846, 1636211, 1887763]\n",
    "\n",
    "# Target sum C\n",
    "C = 6342470\n",
    "\n",
    "# Initialize variables to store the best sum and its corresponding subset\n",
    "best_sum = 0\n",
    "best_subset = []\n",
    "\n",
    "# Check all possible combinations of the numbers\n",
    "for r in range(1, len(numbers) + 1):\n",
    "    for subset in combinations(numbers, r):\n",
    "        current_sum = sum(subset)\n",
    "        if best_sum < current_sum <= C:\n",
    "            best_sum = current_sum\n",
    "            best_subset = subset\n",
    "\n",
    "best_sum, best_subset\n"
   ]
  }
 ],
 "metadata": {
  "kernelspec": {
   "display_name": "Python 3",
   "language": "python",
   "name": "python3"
  },
  "language_info": {
   "codemirror_mode": {
    "name": "ipython",
    "version": 3
   },
   "file_extension": ".py",
   "mimetype": "text/x-python",
   "name": "python",
   "nbconvert_exporter": "python",
   "pygments_lexer": "ipython3",
   "version": "3.9.12"
  }
 },
 "nbformat": 4,
 "nbformat_minor": 2
}
