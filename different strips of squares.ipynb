{
 "cells": [
  {
   "cell_type": "markdown",
   "metadata": {},
   "source": [
    "The solutions of the AI Olympics Qualifying Test (Remote) is presented.\n",
    "\n",
    "Q1: \n",
    "Littel Ahmed is painting a strip made of squares, but he has a limited number of paint strokes. He can select 2 neighboring unpainted cells and paint both of them red. For example, there are three possible ways to paint a strip of 5 squares with only 2 paint strokes. How many different strips of 8 squares can Ahmed make with exactly three paint strokes?"
   ]
  },
  {
   "cell_type": "code",
   "execution_count": 8,
   "metadata": {},
   "outputs": [
    {
     "name": "stdout",
     "output_type": "stream",
     "text": [
      "10\n"
     ]
    }
   ],
   "source": [
    "from itertools import combinations\n",
    "\n",
    "# Define the length of the strip and the number of strokes\n",
    "strip_length = 8\n",
    "strokes = 3\n",
    "\n",
    "#Each stroke paints a number of neighboring cells. In this question, it is specified as 2, so each stroke effectively covers 2 squares.\n",
    "cells_covered_per_stroke = 2\n",
    "\n",
    "# Total cells covered by all strokes\n",
    "total_cells_covered = cells_covered_per_stroke * strokes\n",
    "\n",
    "# Generate all possible combinations of starting positions for the strokes\n",
    "# Since each stroke covers a specific number of neighboring cells, the starting position of each stroke must fall within the range of [0, strip_length - cells_covered_per_stroke]\n",
    "possible_starts = range(strip_length - cells_covered_per_stroke + 1)\n",
    "\n",
    "# Generate combinations of starting positions for the strokes\n",
    "combinations_of_starts = list(combinations(possible_starts, strokes))\n",
    "\n",
    "# Filter out invalid combinations where strokes overlap\n",
    "valid_combinations = []\n",
    "for combination in combinations_of_starts:\n",
    "    valid = True\n",
    "    for i in range(len(combination) - 1):\n",
    "        # Check if the current stroke overlaps with the next one\n",
    "        if combination[i] + cells_covered_per_stroke > combination[i + 1]:\n",
    "            valid = False\n",
    "            break\n",
    "    if valid:\n",
    "        valid_combinations.append(combination)\n",
    "\n",
    "# The number of valid combinations is the answer\n",
    "num_valid_combinations = len(valid_combinations)\n",
    "print(num_valid_combinations)\n"
   ]
  }
 ],
 "metadata": {
  "kernelspec": {
   "display_name": "Python 3",
   "language": "python",
   "name": "python3"
  },
  "language_info": {
   "codemirror_mode": {
    "name": "ipython",
    "version": 3
   },
   "file_extension": ".py",
   "mimetype": "text/x-python",
   "name": "python",
   "nbconvert_exporter": "python",
   "pygments_lexer": "ipython3",
   "version": "3.10.8"
  }
 },
 "nbformat": 4,
 "nbformat_minor": 2
}
