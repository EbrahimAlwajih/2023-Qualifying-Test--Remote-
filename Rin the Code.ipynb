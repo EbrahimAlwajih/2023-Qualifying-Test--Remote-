{
 "cells": [
  {
   "cell_type": "markdown",
   "metadata": {},
   "source": [
    "### Q3: What is the value of 'count' after executing the following code?\n",
    "\n",
    "The \"modulus operator,\" often represented as \"%,\" is a mathematical tool that helps us find the remainder when we divide one number by another.\n",
    "\n",
    "Let's use the modulus operator, represented as \"%,\" with an example of $10 \\% 7$.\n",
    "\n",
    "When you calculate $10 \\% 7$, you are asking: \"What is the remainder when $10$ is divided by $7$?\"\n",
    "\n",
    "To find the answer, you perform the division: $10 ÷ 7$ equals $1$ with a remainder of $3$.\n",
    "\n",
    "So, when you do $10 % 7$, the result is $3$, because that's the amount left over after dividing $10$ by $7$.\n",
    "\n",
    "In simple terms, $10 % 7$ equals $3$ because if you have 10 items and you want to distribute them into groups of $7$, you will have 3 items left over that cannot be evenly divided among the groups."
   ]
  },
  {
   "cell_type": "code",
   "execution_count": 6,
   "metadata": {},
   "outputs": [
    {
     "data": {
      "text/plain": [
       "14"
      ]
     },
     "execution_count": 6,
     "metadata": {},
     "output_type": "execute_result"
    }
   ],
   "source": [
    "count = 0\n",
    "for i in range (16, 109):\n",
    "    if i % 7 == 2:\n",
    "        count += 1\n",
    "count       "
   ]
  },
  {
   "cell_type": "markdown",
   "metadata": {},
   "source": [
    "From the above code: \n",
    "to count the number of numbers where the modulus (mod) of $7$ is equal to $2$, you can look at a sequence of numbers and check which ones satisfy this condition.\n",
    "\n",
    "A number \"$i$\" satisfies the condition when $i \\% 7$ equals $2$. This means that when you divide $i$ by $7$, the remainder should be $2$.\n",
    "\n",
    "Let's go through some numbers (starting by $16$) and see which ones meet this condition:\n",
    "\n",
    "16 % 7 = 2 (16 divided by 7 leaves a remainder of 2) <br>\n",
    "17 % 7 = 3 (17 divided by 7 leaves a remainder of 3) <br>\n",
    "18 % 7 = 4 (18 divided by 7 leaves a remainder of 4) <br>\n",
    "19 % 7 = 5 (19 divided by 7 leaves a remainder of 5) <br>\n",
    "...\n",
    "\n",
    "After running the program, you can find $14$ numbers where the modulus (mod) of $7$ is equal to $2$: <br>\n",
    "16 % 7 = 2 <br>\n",
    "23 % 7 = 2 <br>\n",
    "30 % 7 = 2 <br>\n",
    "37 % 7 = 2 <br>\n",
    "44 % 7 = 2 <br>\n",
    "51 % 7 = 2 <br>\n",
    "58 % 7 = 2 <br>\n",
    "65 % 7 = 2 <br>\n",
    "72 % 7 = 2 <br>\n",
    "79 % 7 = 2 <br>\n",
    "86 % 7 = 2 <br> \n",
    "93 % 7 = 2 <br>\n",
    "100 % 7 = 2 <br>\n",
    "107 % 7 = 2 <br>\n",
    "<b>\n",
    "<br>\n",
    "So, the answer to this question is $14$\n",
    "\n",
    "\n"
   ]
  },
  {
   "cell_type": "markdown",
   "metadata": {},
   "source": []
  }
 ],
 "metadata": {
  "kernelspec": {
   "display_name": "Python 3",
   "language": "python",
   "name": "python3"
  },
  "language_info": {
   "codemirror_mode": {
    "name": "ipython",
    "version": 3
   },
   "file_extension": ".py",
   "mimetype": "text/x-python",
   "name": "python",
   "nbconvert_exporter": "python",
   "pygments_lexer": "ipython3",
   "version": "3.10.8"
  }
 },
 "nbformat": 4,
 "nbformat_minor": 2
}
